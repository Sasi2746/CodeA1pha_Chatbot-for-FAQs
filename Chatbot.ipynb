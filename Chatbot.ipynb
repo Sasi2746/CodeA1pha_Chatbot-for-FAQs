{
 "cells": [
  {
   "cell_type": "code",
   "execution_count": 1,
   "id": "bf63ef72",
   "metadata": {},
   "outputs": [],
   "source": [
    "faqs = {\n",
    "    \"What is OpenAI?\": \"OpenAI is an AI research and deployment company.\",\n",
    "    \"What is GPT?\": \"GPT (Generative Pre-trained Transformer) is a large language model developed by OpenAI.\",\n",
    "    \"How can I reset my password?\": \"You can reset your password by clicking on 'Forgot Password' on the login page.\",\n",
    "    \"Does the service support multiple languages?\": \"Yes, it supports multiple languages including English, Spanish, and French.\",\n",
    "    \"How can I contact support?\": \"You can contact support via email at support@example.com.\"\n",
    "}\n"
   ]
  },
  {
   "cell_type": "code",
   "execution_count": 2,
   "id": "91e28614",
   "metadata": {},
   "outputs": [
    {
     "name": "stderr",
     "output_type": "stream",
     "text": [
      "[nltk_data] Downloading package stopwords to\n",
      "[nltk_data]     C:\\Users\\Acer\\AppData\\Roaming\\nltk_data...\n",
      "[nltk_data]   Package stopwords is already up-to-date!\n"
     ]
    }
   ],
   "source": [
    "import nltk\n",
    "import string\n",
    "import re\n",
    "from nltk.corpus import stopwords\n",
    "\n",
    "# Download necessary NLTK resources\n",
    "nltk.download(\"stopwords\")\n",
    "\n",
    "stop_words = set(stopwords.words(\"english\"))\n",
    "\n",
    "def preprocess(text):\n",
    "    # Convert to lowercase\n",
    "    text = text.lower()\n",
    "    \n",
    "    # Remove punctuation\n",
    "    text = re.sub(r'[^\\w\\s]', '', text)\n",
    "    \n",
    "    # Tokenize (split by whitespace)\n",
    "    tokens = text.split()\n",
    "    \n",
    "    # Remove stopwords\n",
    "    tokens = [word for word in tokens if word not in stop_words]\n",
    "    \n",
    "    return \" \".join(tokens)"
   ]
  },
  {
   "cell_type": "code",
   "execution_count": 3,
   "id": "02a77b7f",
   "metadata": {},
   "outputs": [],
   "source": [
    "from sklearn.feature_extraction.text import TfidfVectorizer\n",
    "from sklearn.metrics.pairwise import cosine_similarity\n",
    "\n",
    "# Preprocess all FAQ questions\n",
    "faq_questions = list(faqs.keys())\n",
    "processed_questions = [preprocess(q) for q in faq_questions]\n",
    "\n",
    "# TF-IDF Vectorizer\n",
    "vectorizer = TfidfVectorizer()\n",
    "X = vectorizer.fit_transform(processed_questions)\n"
   ]
  },
  {
   "cell_type": "code",
   "execution_count": 4,
   "id": "ec2031db",
   "metadata": {},
   "outputs": [],
   "source": [
    "def get_response(user_query):\n",
    "    processed_query = preprocess(user_query)\n",
    "    query_vec = vectorizer.transform([processed_query])\n",
    "    similarity = cosine_similarity(query_vec, X)\n",
    "    idx = similarity.argmax()\n",
    "    return faqs[faq_questions[idx]]\n"
   ]
  },
  {
   "cell_type": "code",
   "execution_count": 5,
   "id": "303256d8",
   "metadata": {},
   "outputs": [
    {
     "name": "stdout",
     "output_type": "stream",
     "text": [
      "FAQ Chatbot 🤖 (type 'quit' to exit)\n",
      "Chatbot: Goodbye! 👋\n",
      "Chatbot: Goodbye! 👋\n"
     ]
    }
   ],
   "source": [
    "print(\"FAQ Chatbot 🤖 (type 'quit' to exit)\")\n",
    "while True:\n",
    "    user_input = input(\"You: \")\n",
    "    if user_input.lower() == \"quit\":\n",
    "        print(\"Chatbot: Goodbye! 👋\")\n",
    "        break\n",
    "    response = get_response(user_input)\n",
    "    print(\"Chatbot:\", response)\n"
   ]
  },
  {
   "cell_type": "code",
   "execution_count": 6,
   "id": "20145ac4",
   "metadata": {},
   "outputs": [
    {
     "name": "stderr",
     "output_type": "stream",
     "text": [
      "2025-09-20 11:30:17.036 WARNING streamlit.runtime.scriptrunner_utils.script_run_context: Thread 'MainThread': missing ScriptRunContext! This warning can be ignored when running in bare mode.\n",
      "2025-09-20 11:30:18.684 \n",
      "  \u001b[33m\u001b[1mWarning:\u001b[0m to view this Streamlit app on a browser, run it with the following\n",
      "  command:\n",
      "\n",
      "    streamlit run C:\\Users\\Acer\\AppData\\Local\\Packages\\PythonSoftwareFoundation.Python.3.13_qbz5n2kfra8p0\\LocalCache\\local-packages\\Python313\\site-packages\\ipykernel_launcher.py [ARGUMENTS]\n",
      "2025-09-20 11:30:18.686 Thread 'MainThread': missing ScriptRunContext! This warning can be ignored when running in bare mode.\n",
      "2025-09-20 11:30:18.687 Thread 'MainThread': missing ScriptRunContext! This warning can be ignored when running in bare mode.\n",
      "2025-09-20 11:30:18.689 Thread 'MainThread': missing ScriptRunContext! This warning can be ignored when running in bare mode.\n",
      "2025-09-20 11:30:18.690 Thread 'MainThread': missing ScriptRunContext! This warning can be ignored when running in bare mode.\n",
      "2025-09-20 11:30:18.692 Thread 'MainThread': missing ScriptRunContext! This warning can be ignored when running in bare mode.\n",
      "2025-09-20 11:30:18.693 Thread 'MainThread': missing ScriptRunContext! This warning can be ignored when running in bare mode.\n",
      "2025-09-20 11:30:18.695 Session state does not function when running a script without `streamlit run`\n",
      "2025-09-20 11:30:18.684 \n",
      "  \u001b[33m\u001b[1mWarning:\u001b[0m to view this Streamlit app on a browser, run it with the following\n",
      "  command:\n",
      "\n",
      "    streamlit run C:\\Users\\Acer\\AppData\\Local\\Packages\\PythonSoftwareFoundation.Python.3.13_qbz5n2kfra8p0\\LocalCache\\local-packages\\Python313\\site-packages\\ipykernel_launcher.py [ARGUMENTS]\n",
      "2025-09-20 11:30:18.686 Thread 'MainThread': missing ScriptRunContext! This warning can be ignored when running in bare mode.\n",
      "2025-09-20 11:30:18.687 Thread 'MainThread': missing ScriptRunContext! This warning can be ignored when running in bare mode.\n",
      "2025-09-20 11:30:18.689 Thread 'MainThread': missing ScriptRunContext! This warning can be ignored when running in bare mode.\n",
      "2025-09-20 11:30:18.690 Thread 'MainThread': missing ScriptRunContext! This warning can be ignored when running in bare mode.\n",
      "2025-09-20 11:30:18.692 Thread 'MainThread': missing ScriptRunContext! This warning can be ignored when running in bare mode.\n",
      "2025-09-20 11:30:18.693 Thread 'MainThread': missing ScriptRunContext! This warning can be ignored when running in bare mode.\n",
      "2025-09-20 11:30:18.695 Session state does not function when running a script without `streamlit run`\n",
      "2025-09-20 11:30:18.696 Thread 'MainThread': missing ScriptRunContext! This warning can be ignored when running in bare mode.\n",
      "2025-09-20 11:30:18.698 Thread 'MainThread': missing ScriptRunContext! This warning can be ignored when running in bare mode.\n",
      "2025-09-20 11:30:18.699 Thread 'MainThread': missing ScriptRunContext! This warning can be ignored when running in bare mode.\n",
      "2025-09-20 11:30:18.696 Thread 'MainThread': missing ScriptRunContext! This warning can be ignored when running in bare mode.\n",
      "2025-09-20 11:30:18.698 Thread 'MainThread': missing ScriptRunContext! This warning can be ignored when running in bare mode.\n",
      "2025-09-20 11:30:18.699 Thread 'MainThread': missing ScriptRunContext! This warning can be ignored when running in bare mode.\n"
     ]
    }
   ],
   "source": [
    "# save as faq_chatbot.py and run: streamlit run faq_chatbot.py\n",
    "import streamlit as st\n",
    "\n",
    "st.title(\"FAQ Chatbot 🤖\")\n",
    "\n",
    "user_input = st.text_input(\"Ask me something:\")\n",
    "\n",
    "if user_input:\n",
    "    response = get_response(user_input)\n",
    "    st.write(\"**Chatbot:**\", response)\n"
   ]
  }
 ],
 "metadata": {
  "kernelspec": {
   "display_name": "Python 3",
   "language": "python",
   "name": "python3"
  },
  "language_info": {
   "codemirror_mode": {
    "name": "ipython",
    "version": 3
   },
   "file_extension": ".py",
   "mimetype": "text/x-python",
   "name": "python",
   "nbconvert_exporter": "python",
   "pygments_lexer": "ipython3",
   "version": "3.13.7"
  }
 },
 "nbformat": 4,
 "nbformat_minor": 5
}
